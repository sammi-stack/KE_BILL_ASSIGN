{
 "cells": [
  {
   "cell_type": "markdown",
   "id": "4769df57",
   "metadata": {},
   "source": [
    "# SAMI AHMED ASSIGNMENT"
   ]
  },
  {
   "cell_type": "code",
   "execution_count": 2,
   "id": "afe4aa31",
   "metadata": {},
   "outputs": [
    {
     "name": "stdout",
     "output_type": "stream",
     "text": [
      "Enter Units Billed : 200\n",
      "Electric Charges For 200 Units = 2058.0\n",
      "Uniform Charges For 200 Units = 114.3\n",
      "Fuel Charges For 200 Units = 50000\n",
      "Sales Tax For 200 Units =  349.86\n",
      "Advance Tax For 200 Units = 6174.0\n",
      "\n",
      "Enter No Of Tv: = 2\n",
      "Tv Fee For 200 Units = 70\n",
      "Total Amount For 200 Units = 58766\n"
     ]
    }
   ],
   "source": [
    "def electricity(monthly_units):\n",
    "    charges = 0\n",
    "    if monthly_units > 0 and monthly_units <= 100:\n",
    "        charges = monthly_units * 9.43\n",
    "    elif monthly_units > 100 and monthly_units <= 200:\n",
    "        charges = monthly_units * 10.29\n",
    "    elif monthly_units > 200 and monthly_units <= 300:\n",
    "        charges = monthly_units * 12.55\n",
    "    elif monthly_units > 300 and monthly_units <= 400:\n",
    "        charges = monthly_units * 17.35\n",
    "    elif monthly_units > 400 and monthly_units <= 500:\n",
    "        charges = monthly_units * 18.84\n",
    "    elif monthly_units > 500 and monthly_units <= 600:\n",
    "        charges = monthly_units * 19.76\n",
    "    elif monthly_units > 600 and monthly_units <= 700:\n",
    "        charges = monthly_units * 20.24\n",
    "    elif monthly_units > 700:\n",
    "        charges = monthly_units * 23.87\n",
    "    else:  #invald values given\n",
    "        charges = -1\n",
    "    return charges \n",
    "\n",
    "\n",
    "def fuel_charges(monthly_units):\n",
    "    result = monthly_units * 250\n",
    "    return result\n",
    "    \n",
    "\n",
    "def uniform_charges(monthly_units):\n",
    "    result = monthly_units * 0.5715\n",
    "    return result\n",
    "\n",
    "def sales_tax(electric_charges):\n",
    "    return 0.17 * electric_charges\n",
    "\n",
    "def advance_tax(electric_charges):\n",
    "    return electric_charges * 3\n",
    "\n",
    "def tv_fee(number_of_tv):\n",
    "    result = int(input(\"\\nEnter No Of Tv: = \")) \n",
    "    return result * 35\n",
    "\n",
    "def total_amount(*amount):\n",
    "    result=0\n",
    "    for i in amount:\n",
    "         result=result+i\n",
    "    return int(result)\n",
    "\n",
    "def bill_main(monthly_units):    \n",
    "    electric_charges = electricity(monthly_units)\n",
    "    print(\"Electric Charges For\", monthly_units,\"Units =\", electric_charges)\n",
    "  \n",
    "    uniform_charge = uniform_charges(monthly_units)\n",
    "    print(\"Uniform Charges For\",monthly_units,\"Units =\",uniform_charge)\n",
    "    \n",
    "    fuel_charge = fuel_charges(monthly_units)\n",
    "    print(\"Fuel Charges For\", monthly_units ,\"Units =\",fuel_charge)\n",
    "    \n",
    "    sales_taxes = sales_tax(electric_charges)\n",
    "    print(\"Sales Tax For\", monthly_units, \"Units = \",sales_taxes)\n",
    "    \n",
    "    advance_taxes = advance_tax(electric_charges)\n",
    "    print(\"Advance Tax For\",monthly_units,\"Units =\",advance_taxes)\n",
    "    \n",
    "    tv_fees = tv_fee(0)\n",
    "    print(\"Tv Fee For\",monthly_units, \"Units =\",tv_fees)\n",
    "    \n",
    "    total = total_amount(electric_charges,uniform_charge,fuel_charge,sales_taxes,advance_taxes,tv_fees)\n",
    "    print(\"Total Amount For\", monthly_units, \"Units =\", total)\n",
    "\n",
    "    \n",
    "#testing_units = [525,112,349,700,-22,450,116,10347,1152,6065,14279,-1,8478,1193]\n",
    "Monthly_Units = int(input(\"Enter Units Billed : \"))\n",
    "bill_main(Monthly_Units)"
   ]
  },
  {
   "cell_type": "code",
   "execution_count": null,
   "id": "b414557e",
   "metadata": {},
   "outputs": [],
   "source": []
  }
 ],
 "metadata": {
  "kernelspec": {
   "display_name": "Python 3 (ipykernel)",
   "language": "python",
   "name": "python3"
  },
  "language_info": {
   "codemirror_mode": {
    "name": "ipython",
    "version": 3
   },
   "file_extension": ".py",
   "mimetype": "text/x-python",
   "name": "python",
   "nbconvert_exporter": "python",
   "pygments_lexer": "ipython3",
   "version": "3.7.0"
  }
 },
 "nbformat": 4,
 "nbformat_minor": 5
}
